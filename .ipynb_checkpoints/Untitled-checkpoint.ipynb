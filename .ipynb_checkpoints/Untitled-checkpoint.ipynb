{
 "cells": [
  {
   "cell_type": "code",
   "execution_count": 1,
   "metadata": {
    "collapsed": true
   },
   "outputs": [],
   "source": [
    "import codecs\n",
    "from collections import defaultdict"
   ]
  },
  {
   "cell_type": "code",
   "execution_count": 7,
   "metadata": {
    "collapsed": false
   },
   "outputs": [
    {
     "name": "stdout",
     "output_type": "stream",
     "text": [
      "1\t@youtube\n",
      "2\tفيديو\n",
      "3\tاعجبني\n",
      "4\ta\n",
      "5\ti\n",
      "6\tvideo\n",
      "7\tمن\n",
      "8\tفي\n",
      "9\tfrom\n",
      "10\tمقطع\n",
      "54904\n"
     ]
    }
   ],
   "source": [
    "with codecs.open(r\"Arabic/Data/Terms.feats.5m\", encoding='utf-8') as fobj:\n",
    "    for i, line in enumerate(fobj):\n",
    "        if i < 10:\n",
    "            print line,\n",
    "        \n",
    "    else:\n",
    "        print i+1"
   ]
  },
  {
   "cell_type": "code",
   "execution_count": 3,
   "metadata": {
    "collapsed": false
   },
   "outputs": [
    {
     "name": "stdout",
     "output_type": "stream",
     "text": [
      "5000020\n",
      "26\n"
     ]
    }
   ],
   "source": [
    "not_4_count = 0 \n",
    "with codecs.open(r\"Arabic/Data/Tweets.train\", encoding='utf-8') as fobj:\n",
    "    for i, line in enumerate(fobj):\n",
    "        length = len(line.strip().split('\\t'))\n",
    "        if length != 4:\n",
    "            not_4_count += 1\n",
    "            #print length, line\n",
    "            \n",
    "        \n",
    "    else:\n",
    "        print i+1\n",
    "        print not_4_count"
   ]
  },
  {
   "cell_type": "markdown",
   "metadata": {},
   "source": [
    "## Building the training data"
   ]
  },
  {
   "cell_type": "code",
   "execution_count": 38,
   "metadata": {
    "collapsed": false
   },
   "outputs": [
    {
     "name": "stdout",
     "output_type": "stream",
     "text": [
      "5000020\n"
     ]
    }
   ],
   "source": [
    "with codecs.open(r\"Arabic/resources/Categories.txt\", encoding='utf-8') as fobj:\n",
    "    categories = dict(reversed(line.strip().split('\\t')) for line in fobj)\n",
    "    categories['Religious'] = '16'\n",
    "\n",
    "tweets_groupby_cats_counts = defaultdict(int)\n",
    "with codecs.open(r\"Arabic/Data/Tweets.train.35k\", encoding='utf-8', mode='w') as wf:\n",
    "    with codecs.open(r\"Arabic/Data/Tweets.train\", encoding='utf-8') as fobj:\n",
    "        for i, line in enumerate(fobj):\n",
    "    #         if i < 10:\n",
    "    #             print line\n",
    "    #         if i > 10000:\n",
    "    #             break\n",
    "\n",
    "            parts = line.strip().split('\\t')\n",
    "            length = len(parts)\n",
    "            if length != 4:\n",
    "                pass\n",
    "                #print length, line\n",
    "            else:\n",
    "                if categories[parts[3]] != '11' and \\\n",
    "                tweets_groupby_cats_counts[categories[parts[3]]]<35000:\n",
    "                    tweets_groupby_cats_counts[categories[parts[3]]] += 1\n",
    "                    wf.write(parts[0])\n",
    "                    wf.write('\\t')\n",
    "                    wf.write(parts[1])\n",
    "                    wf.write('\\t')\n",
    "                    wf.write(parts[2])\n",
    "                    wf.write('\\t')\n",
    "                    wf.write(parts[3])\n",
    "                    wf.write('\\r\\n')\n",
    "\n",
    "\n",
    "        else:\n",
    "            print i+1"
   ]
  },
  {
   "cell_type": "code",
   "execution_count": 27,
   "metadata": {
    "collapsed": false
   },
   "outputs": [
    {
     "data": {
      "text/plain": [
       "{u'Autos & Vehicles': u'1',\n",
       " u'Comedy': u'2',\n",
       " u'Education': u'3',\n",
       " u'Entertainment': u'4',\n",
       " u'Film & Animation': u'5',\n",
       " u'Gaming': u'6',\n",
       " u'Howto & Style': u'7',\n",
       " u'Movies': u'5',\n",
       " u'Music': u'8',\n",
       " u'News & Politics': u'9',\n",
       " u'Nonprofits & Activism': u'10',\n",
       " u'People & Blogs': u'11',\n",
       " u'Pets & Animals': u'12',\n",
       " 'Religious': '16',\n",
       " u'Science & Technology': u'13',\n",
       " u'Shows': u'5',\n",
       " u'Sports': u'14',\n",
       " u'Trailers': u'5',\n",
       " u'Travel & Events': u'15'}"
      ]
     },
     "execution_count": 27,
     "metadata": {},
     "output_type": "execute_result"
    }
   ],
   "source": [
    "categories"
   ]
  },
  {
   "cell_type": "code",
   "execution_count": 7,
   "metadata": {
    "collapsed": false
   },
   "outputs": [
    {
     "name": "stdout",
     "output_type": "stream",
     "text": [
      "3593369\n"
     ]
    }
   ],
   "source": [
    "cats_freq = defaultdict(int)\n",
    "with codecs.open(r'Arabic/Data/Tweets.train.final', encoding='utf-8') as fobj:\n",
    "    for i, line in enumerate(fobj):\n",
    "        parts = line.strip().split('\\t')\n",
    "        if len(parts) == 2:\n",
    "            cats_freq[parts[1]] += 1\n",
    "        else:\n",
    "            pass\n",
    "            #print line,\n",
    "#         if i < 10:\n",
    "#             print line\n",
    "    else:\n",
    "        print i\n",
    "            "
   ]
  },
  {
   "cell_type": "code",
   "execution_count": 48,
   "metadata": {
    "collapsed": false
   },
   "outputs": [
    {
     "name": "stdout",
     "output_type": "stream",
     "text": [
      "defaultdict(<type 'int'>, {u'10': 295289, u'13': 67059, u'12': 34459, u'15': 51702, u'14': 262382, u'1': 107344, u'3': 394376, u'2': 272703, u'5': 280618, u'4': 276494, u'7': 103698, u'6': 64172, u'9': 1016699, u'8': 366253})\n"
     ]
    },
    {
     "data": {
      "text/plain": [
       "[34459,\n",
       " 51702,\n",
       " 64172,\n",
       " 67059,\n",
       " 103698,\n",
       " 107344,\n",
       " 262382,\n",
       " 272703,\n",
       " 276494,\n",
       " 280618,\n",
       " 295289,\n",
       " 366253,\n",
       " 394376,\n",
       " 1016699]"
      ]
     },
     "execution_count": 48,
     "metadata": {},
     "output_type": "execute_result"
    }
   ],
   "source": [
    "print cats_freq\n",
    "sorted(cats_freq.values())"
   ]
  },
  {
   "cell_type": "code",
   "execution_count": 36,
   "metadata": {
    "collapsed": false
   },
   "outputs": [
    {
     "name": "stdout",
     "output_type": "stream",
     "text": [
      "2218552\n"
     ]
    }
   ],
   "source": [
    "with codecs.open(r\"Arabic/Data/religious.train\", encoding='utf-8', mode='w') as wf:\n",
    "    with codecs.open(r'Arabic/Data/religious.txt', encoding='utf-8') as fobj:\n",
    "        for i, line in enumerate(fobj):\n",
    "            tweet_parts = line.strip().split('\\t')\n",
    "\n",
    "            if len(tweet_parts) == 23:\n",
    "                wf.write(tweet_parts[0])\n",
    "                wf.write('\\t')\n",
    "                wf.write(tweet_parts[15])\n",
    "                wf.write('\\t')\n",
    "                wf.write(tweet_parts[22])\n",
    "                wf.write('\\t')\n",
    "                wf.write('Religious')\n",
    "                wf.write('\\n')\n",
    "\n",
    "            else:\n",
    "                continue\n",
    "                # print len(tweet_parts)\n",
    "                #print tweet_parts[6] \n",
    "                #break\n",
    "                #fdd = line\n",
    "                #print len(tweet_parts)\n",
    "        else:\n",
    "            print i+1"
   ]
  },
  {
   "cell_type": "code",
   "execution_count": null,
   "metadata": {
    "collapsed": true
   },
   "outputs": [],
   "source": []
  }
 ],
 "metadata": {
  "kernelspec": {
   "display_name": "Python 2",
   "language": "python",
   "name": "python2"
  },
  "language_info": {
   "codemirror_mode": {
    "name": "ipython",
    "version": 2
   },
   "file_extension": ".py",
   "mimetype": "text/x-python",
   "name": "python",
   "nbconvert_exporter": "python",
   "pygments_lexer": "ipython2",
   "version": "2.7.11"
  }
 },
 "nbformat": 4,
 "nbformat_minor": 0
}
